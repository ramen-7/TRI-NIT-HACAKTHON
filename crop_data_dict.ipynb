{
 "cells": [
  {
   "cell_type": "code",
   "execution_count": 2,
   "metadata": {},
   "outputs": [],
   "source": [
    "import pandas as pd\n",
    "import numpy as np\n",
    "import matplotlib.pyplot as plt\n",
    "import seaborn as sns"
   ]
  },
  {
   "cell_type": "code",
   "execution_count": 4,
   "metadata": {},
   "outputs": [],
   "source": [
    "df=pd.read_excel(\"crop_data_dict.xlsx\")"
   ]
  },
  {
   "cell_type": "code",
   "execution_count": 5,
   "metadata": {},
   "outputs": [
    {
     "data": {
      "text/html": [
       "<div>\n",
       "<style scoped>\n",
       "    .dataframe tbody tr th:only-of-type {\n",
       "        vertical-align: middle;\n",
       "    }\n",
       "\n",
       "    .dataframe tbody tr th {\n",
       "        vertical-align: top;\n",
       "    }\n",
       "\n",
       "    .dataframe thead th {\n",
       "        text-align: right;\n",
       "    }\n",
       "</style>\n",
       "<table border=\"1\" class=\"dataframe\">\n",
       "  <thead>\n",
       "    <tr style=\"text-align: right;\">\n",
       "      <th></th>\n",
       "      <th>State_Name</th>\n",
       "      <th>District_Name</th>\n",
       "      <th>Crop_Year</th>\n",
       "      <th>Season</th>\n",
       "      <th>Crop</th>\n",
       "      <th>Area</th>\n",
       "      <th>Production</th>\n",
       "    </tr>\n",
       "  </thead>\n",
       "  <tbody>\n",
       "    <tr>\n",
       "      <th>0</th>\n",
       "      <td>Andhra Pradesh</td>\n",
       "      <td>ANANTAPUR</td>\n",
       "      <td>2011</td>\n",
       "      <td>Kharif</td>\n",
       "      <td>Arhar/Tur</td>\n",
       "      <td>51728.0</td>\n",
       "      <td>4293.0</td>\n",
       "    </tr>\n",
       "    <tr>\n",
       "      <th>1</th>\n",
       "      <td>Andhra Pradesh</td>\n",
       "      <td>ANANTAPUR</td>\n",
       "      <td>2011</td>\n",
       "      <td>Kharif</td>\n",
       "      <td>Bajra</td>\n",
       "      <td>2614.0</td>\n",
       "      <td>3307.0</td>\n",
       "    </tr>\n",
       "    <tr>\n",
       "      <th>2</th>\n",
       "      <td>Andhra Pradesh</td>\n",
       "      <td>ANANTAPUR</td>\n",
       "      <td>2011</td>\n",
       "      <td>Kharif</td>\n",
       "      <td>Castor seed</td>\n",
       "      <td>30203.0</td>\n",
       "      <td>1843.0</td>\n",
       "    </tr>\n",
       "    <tr>\n",
       "      <th>3</th>\n",
       "      <td>Andhra Pradesh</td>\n",
       "      <td>ANANTAPUR</td>\n",
       "      <td>2011</td>\n",
       "      <td>Kharif</td>\n",
       "      <td>Cotton(lint)</td>\n",
       "      <td>19299.0</td>\n",
       "      <td>12069.0</td>\n",
       "    </tr>\n",
       "    <tr>\n",
       "      <th>4</th>\n",
       "      <td>Andhra Pradesh</td>\n",
       "      <td>ANANTAPUR</td>\n",
       "      <td>2011</td>\n",
       "      <td>Kharif</td>\n",
       "      <td>Cowpea(Lobia)</td>\n",
       "      <td>846.0</td>\n",
       "      <td>150.0</td>\n",
       "    </tr>\n",
       "    <tr>\n",
       "      <th>...</th>\n",
       "      <td>...</td>\n",
       "      <td>...</td>\n",
       "      <td>...</td>\n",
       "      <td>...</td>\n",
       "      <td>...</td>\n",
       "      <td>...</td>\n",
       "      <td>...</td>\n",
       "    </tr>\n",
       "    <tr>\n",
       "      <th>52244</th>\n",
       "      <td>Sikkim</td>\n",
       "      <td>WEST DISTRICT</td>\n",
       "      <td>2015</td>\n",
       "      <td>Kharif</td>\n",
       "      <td>Soyabean</td>\n",
       "      <td>546.0</td>\n",
       "      <td>520.0</td>\n",
       "    </tr>\n",
       "    <tr>\n",
       "      <th>52245</th>\n",
       "      <td>Sikkim</td>\n",
       "      <td>WEST DISTRICT</td>\n",
       "      <td>2015</td>\n",
       "      <td>Kharif</td>\n",
       "      <td>Urad</td>\n",
       "      <td>914.0</td>\n",
       "      <td>811.0</td>\n",
       "    </tr>\n",
       "    <tr>\n",
       "      <th>52246</th>\n",
       "      <td>Sikkim</td>\n",
       "      <td>WEST DISTRICT</td>\n",
       "      <td>2015</td>\n",
       "      <td>Rabi</td>\n",
       "      <td>Barley</td>\n",
       "      <td>12.0</td>\n",
       "      <td>11.0</td>\n",
       "    </tr>\n",
       "    <tr>\n",
       "      <th>52247</th>\n",
       "      <td>Sikkim</td>\n",
       "      <td>WEST DISTRICT</td>\n",
       "      <td>2015</td>\n",
       "      <td>Rabi</td>\n",
       "      <td>Rapeseed &amp;Mustard</td>\n",
       "      <td>625.0</td>\n",
       "      <td>540.0</td>\n",
       "    </tr>\n",
       "    <tr>\n",
       "      <th>52248</th>\n",
       "      <td>Sikkim</td>\n",
       "      <td>WEST DISTRICT</td>\n",
       "      <td>2015</td>\n",
       "      <td>Rabi</td>\n",
       "      <td>Wheat</td>\n",
       "      <td>20.0</td>\n",
       "      <td>21.0</td>\n",
       "    </tr>\n",
       "  </tbody>\n",
       "</table>\n",
       "<p>52249 rows × 7 columns</p>\n",
       "</div>"
      ],
      "text/plain": [
       "           State_Name  District_Name  Crop_Year       Season  \\\n",
       "0      Andhra Pradesh      ANANTAPUR       2011  Kharif        \n",
       "1      Andhra Pradesh      ANANTAPUR       2011  Kharif        \n",
       "2      Andhra Pradesh      ANANTAPUR       2011  Kharif        \n",
       "3      Andhra Pradesh      ANANTAPUR       2011  Kharif        \n",
       "4      Andhra Pradesh      ANANTAPUR       2011  Kharif        \n",
       "...               ...            ...        ...          ...   \n",
       "52244          Sikkim  WEST DISTRICT       2015  Kharif        \n",
       "52245          Sikkim  WEST DISTRICT       2015  Kharif        \n",
       "52246          Sikkim  WEST DISTRICT       2015  Rabi          \n",
       "52247          Sikkim  WEST DISTRICT       2015  Rabi          \n",
       "52248          Sikkim  WEST DISTRICT       2015  Rabi          \n",
       "\n",
       "                    Crop     Area  Production  \n",
       "0              Arhar/Tur  51728.0      4293.0  \n",
       "1                  Bajra   2614.0      3307.0  \n",
       "2            Castor seed  30203.0      1843.0  \n",
       "3           Cotton(lint)  19299.0     12069.0  \n",
       "4          Cowpea(Lobia)    846.0       150.0  \n",
       "...                  ...      ...         ...  \n",
       "52244           Soyabean    546.0       520.0  \n",
       "52245               Urad    914.0       811.0  \n",
       "52246             Barley     12.0        11.0  \n",
       "52247  Rapeseed &Mustard    625.0       540.0  \n",
       "52248              Wheat     20.0        21.0  \n",
       "\n",
       "[52249 rows x 7 columns]"
      ]
     },
     "execution_count": 5,
     "metadata": {},
     "output_type": "execute_result"
    }
   ],
   "source": [
    "df"
   ]
  },
  {
   "cell_type": "code",
   "execution_count": 6,
   "metadata": {},
   "outputs": [
    {
     "name": "stdout",
     "output_type": "stream",
     "text": [
      "<class 'pandas.core.frame.DataFrame'>\n",
      "RangeIndex: 52249 entries, 0 to 52248\n",
      "Data columns (total 7 columns):\n",
      " #   Column         Non-Null Count  Dtype  \n",
      "---  ------         --------------  -----  \n",
      " 0   State_Name     52249 non-null  object \n",
      " 1   District_Name  52249 non-null  object \n",
      " 2   Crop_Year      52249 non-null  int64  \n",
      " 3   Season         52249 non-null  object \n",
      " 4   Crop           52249 non-null  object \n",
      " 5   Area           52249 non-null  float64\n",
      " 6   Production     51429 non-null  float64\n",
      "dtypes: float64(2), int64(1), object(4)\n",
      "memory usage: 2.8+ MB\n"
     ]
    }
   ],
   "source": [
    "df.info()"
   ]
  },
  {
   "cell_type": "code",
   "execution_count": 7,
   "metadata": {},
   "outputs": [
    {
     "name": "stdout",
     "output_type": "stream",
     "text": [
      "['Arhar/Tur' 'Bajra' 'Castor seed' 'Cotton(lint)' 'Cowpea(Lobia)'\n",
      " 'Dry chillies' 'Groundnut' 'Horse-gram' 'Jowar' 'Maize' 'Mesta'\n",
      " 'Moong(Green Gram)' 'Onion' 'Other Kharif pulses' 'other oilseeds' 'Ragi'\n",
      " 'Rice' 'Small millets' 'Soyabean' 'Urad' 'Gram' 'Safflower' 'Wheat'\n",
      " 'Arecanut' 'Banana' 'Coriander' 'Potato' 'Sugarcane' 'Sunflower'\n",
      " 'Sweet potato' 'Tobacco' 'Turmeric' 'Sesamum' 'Linseed'\n",
      " 'Other  Rabi pulses' 'Cashewnut' 'Tapioca' 'Niger seed'\n",
      " 'Rapeseed &Mustard' 'Dry ginger' 'Garlic' 'Oilseeds total' 'Paddy' 'Jute'\n",
      " 'Orange' 'Papaya' 'Black pepper' 'Ginger' 'Masoor'\n",
      " 'Peas & beans (Pulses)' 'Pineapple' 'Barley' 'Khesari' 'Sannhamp' 'Moth'\n",
      " 'Guar seed' 'Other Cereals & Millets' 'Cardamom' 'Blackgram' 'Mango'\n",
      " 'Brinjal' 'Grapes' 'Lemon' 'Pome Granet' 'Sapota' 'Tomato' 'Cabbage'\n",
      " 'Drum Stick' 'Jack Fruit' 'Pump Kin' 'Other Fresh Fruits'\n",
      " 'Other Vegetables' 'Colocosia' 'Lentil' 'Bean' 'Jobster' 'Perilla'\n",
      " 'Rajmash Kholar' 'Ricebean (nagadal)' 'Pulses total' 'Total foodgrain'] 81\n"
     ]
    }
   ],
   "source": [
    "print(df.Crop.unique(), df.Crop.nunique())"
   ]
  },
  {
   "cell_type": "code",
   "execution_count": 9,
   "metadata": {},
   "outputs": [],
   "source": [
    "df.dropna(axis=0, how='any', inplace=True)"
   ]
  },
  {
   "cell_type": "code",
   "execution_count": 10,
   "metadata": {},
   "outputs": [
    {
     "name": "stdout",
     "output_type": "stream",
     "text": [
      "State_Name       0\n",
      "District_Name    0\n",
      "Crop_Year        0\n",
      "Season           0\n",
      "Crop             0\n",
      "Area             0\n",
      "Production       0\n",
      "dtype: int64\n"
     ]
    }
   ],
   "source": [
    "print(df.isnull().sum())"
   ]
  },
  {
   "cell_type": "code",
   "execution_count": 12,
   "metadata": {},
   "outputs": [],
   "source": [
    "df['P/A']=df['Production']/df['Area']"
   ]
  },
  {
   "cell_type": "code",
   "execution_count": 14,
   "metadata": {},
   "outputs": [
    {
     "name": "stdout",
     "output_type": "stream",
     "text": [
      "<class 'pandas.core.frame.DataFrame'>\n",
      "Int64Index: 51429 entries, 0 to 52248\n",
      "Data columns (total 8 columns):\n",
      " #   Column         Non-Null Count  Dtype  \n",
      "---  ------         --------------  -----  \n",
      " 0   State_Name     51429 non-null  object \n",
      " 1   District_Name  51429 non-null  object \n",
      " 2   Crop_Year      51429 non-null  int64  \n",
      " 3   Season         51429 non-null  object \n",
      " 4   Crop           51429 non-null  object \n",
      " 5   Area           51429 non-null  float64\n",
      " 6   Production     51429 non-null  float64\n",
      " 7   P/A            51429 non-null  float64\n",
      "dtypes: float64(3), int64(1), object(4)\n",
      "memory usage: 3.5+ MB\n"
     ]
    }
   ],
   "source": [
    "df.info()"
   ]
  },
  {
   "cell_type": "code",
   "execution_count": 16,
   "metadata": {},
   "outputs": [],
   "source": [
    "columns_remove=[\"Crop_Year\",\"Area\",\"Production\"]"
   ]
  },
  {
   "cell_type": "code",
   "execution_count": 17,
   "metadata": {},
   "outputs": [],
   "source": [
    "df.drop(columns_remove, axis=1, inplace=True)"
   ]
  },
  {
   "cell_type": "code",
   "execution_count": 48,
   "metadata": {},
   "outputs": [
    {
     "name": "stdout",
     "output_type": "stream",
     "text": [
      "<class 'pandas.core.frame.DataFrame'>\n",
      "Int64Index: 51429 entries, 0 to 52248\n",
      "Data columns (total 4 columns):\n",
      " #   Column         Non-Null Count  Dtype  \n",
      "---  ------         --------------  -----  \n",
      " 0   District_Name  51429 non-null  object \n",
      " 1   Season         51429 non-null  object \n",
      " 2   Crop           51429 non-null  object \n",
      " 3   P/A            51429 non-null  float64\n",
      "dtypes: float64(1), object(3)\n",
      "memory usage: 2.0+ MB\n"
     ]
    }
   ],
   "source": [
    "df.info()"
   ]
  },
  {
   "cell_type": "code",
   "execution_count": 47,
   "metadata": {},
   "outputs": [],
   "source": [
    "df.drop('combined', axis=1, inplace=True)"
   ]
  },
  {
   "cell_type": "code",
   "execution_count": 50,
   "metadata": {},
   "outputs": [],
   "source": [
    "df['combined'] = df['District_Name'].astype(str) + df['Season'].astype(str) + df['Crop'].astype(str)"
   ]
  },
  {
   "cell_type": "code",
   "execution_count": 49,
   "metadata": {},
   "outputs": [
    {
     "data": {
      "text/plain": [
       "0                Arhar/Tur\n",
       "1                    Bajra\n",
       "2              Castor seed\n",
       "3             Cotton(lint)\n",
       "4            Cowpea(Lobia)\n",
       "               ...        \n",
       "52244             Soyabean\n",
       "52245                 Urad\n",
       "52246               Barley\n",
       "52247    Rapeseed &Mustard\n",
       "52248                Wheat\n",
       "Name: Crop, Length: 51429, dtype: object"
      ]
     },
     "execution_count": 49,
     "metadata": {},
     "output_type": "execute_result"
    }
   ],
   "source": [
    "df['Season'].str.strip()\n",
    "df['District_Name'].str.strip()\n",
    "df['Crop'].str.strip()\n"
   ]
  },
  {
   "cell_type": "code",
   "execution_count": 51,
   "metadata": {},
   "outputs": [
    {
     "data": {
      "text/plain": [
       "0               ANANTAPURKharif     Arhar/Tur\n",
       "1                   ANANTAPURKharif     Bajra\n",
       "2             ANANTAPURKharif     Castor seed\n",
       "3            ANANTAPURKharif     Cotton(lint)\n",
       "4           ANANTAPURKharif     Cowpea(Lobia)\n",
       "5            ANANTAPURKharif     Dry chillies\n",
       "6               ANANTAPURKharif     Groundnut\n",
       "7              ANANTAPURKharif     Horse-gram\n",
       "8                   ANANTAPURKharif     Jowar\n",
       "9                   ANANTAPURKharif     Maize\n",
       "10                  ANANTAPURKharif     Mesta\n",
       "11      ANANTAPURKharif     Moong(Green Gram)\n",
       "12                  ANANTAPURKharif     Onion\n",
       "13    ANANTAPURKharif     Other Kharif pulses\n",
       "14         ANANTAPURKharif     other oilseeds\n",
       "15                   ANANTAPURKharif     Ragi\n",
       "16                   ANANTAPURKharif     Rice\n",
       "17          ANANTAPURKharif     Small millets\n",
       "18               ANANTAPURKharif     Soyabean\n",
       "19                   ANANTAPURKharif     Urad\n",
       "Name: combined, dtype: object"
      ]
     },
     "execution_count": 51,
     "metadata": {},
     "output_type": "execute_result"
    }
   ],
   "source": [
    "df['combined'].head(20)"
   ]
  },
  {
   "cell_type": "code",
   "execution_count": 60,
   "metadata": {},
   "outputs": [],
   "source": [
    "df['combined']=df['combined'].apply(str)\n",
    "df['combined'] = df['combined'].str.replace(' ', '')"
   ]
  },
  {
   "cell_type": "code",
   "execution_count": 61,
   "metadata": {},
   "outputs": [
    {
     "data": {
      "text/plain": [
       "0                ANANTAPURKharifArhar/Tur\n",
       "1                    ANANTAPURKharifBajra\n",
       "2               ANANTAPURKharifCastorseed\n",
       "3             ANANTAPURKharifCotton(lint)\n",
       "4            ANANTAPURKharifCowpea(Lobia)\n",
       "                       ...               \n",
       "52244          WESTDISTRICTKharifSoyabean\n",
       "52245              WESTDISTRICTKharifUrad\n",
       "52246              WESTDISTRICTRabiBarley\n",
       "52247    WESTDISTRICTRabiRapeseed&Mustard\n",
       "52248               WESTDISTRICTRabiWheat\n",
       "Name: combined, Length: 51429, dtype: object"
      ]
     },
     "execution_count": 61,
     "metadata": {},
     "output_type": "execute_result"
    }
   ],
   "source": [
    "df['combined']"
   ]
  },
  {
   "cell_type": "code",
   "execution_count": 62,
   "metadata": {},
   "outputs": [],
   "source": [
    "hash_table = {}\n",
    "for index, row in df.iterrows():\n",
    "    # Insert the string-float mapping into the hash table\n",
    "    hash_table[row['combined']] = row['P/A']"
   ]
  },
  {
   "cell_type": "code",
   "execution_count": 63,
   "metadata": {},
   "outputs": [
    {
     "data": {
      "text/plain": [
       "4.232940335834226"
      ]
     },
     "execution_count": 63,
     "metadata": {},
     "output_type": "execute_result"
    }
   ],
   "source": [
    "string=df['combined'][5]\n",
    "hash_table[string]"
   ]
  },
  {
   "cell_type": "code",
   "execution_count": 66,
   "metadata": {},
   "outputs": [
    {
     "name": "stdout",
     "output_type": "stream",
     "text": [
      "0.12898674192002557\n"
     ]
    }
   ],
   "source": [
    "string1=\"ANANTAPUR\"\n",
    "string2=\"Kharif\"\n",
    "string3=\"Arhar/Tur\"\n",
    "\n",
    "string4=string1+string2+string3\n",
    "\n",
    "print(hash_table[string4])"
   ]
  },
  {
   "cell_type": "code",
   "execution_count": 68,
   "metadata": {},
   "outputs": [],
   "source": [
    "District_Names=list(df['District_Name'].unique())"
   ]
  },
  {
   "cell_type": "code",
   "execution_count": 77,
   "metadata": {},
   "outputs": [],
   "source": [
    "column=df['P/A']\n",
    "frequency_distribution = column.value_counts()"
   ]
  },
  {
   "cell_type": "code",
   "execution_count": 78,
   "metadata": {},
   "outputs": [
    {
     "name": "stdout",
     "output_type": "stream",
     "text": [
      "1.000000     1470\n",
      "0.500000      668\n",
      "0.333333      370\n",
      "0.666667      303\n",
      "2.000000      301\n",
      "             ... \n",
      "25.747253       1\n",
      "0.602837        1\n",
      "2.547297        1\n",
      "2.957874        1\n",
      "0.887309        1\n",
      "Name: P/A, Length: 35420, dtype: int64\n"
     ]
    }
   ],
   "source": [
    "print(frequency_distribution)"
   ]
  },
  {
   "cell_type": "code",
   "execution_count": 81,
   "metadata": {},
   "outputs": [
    {
     "data": {
      "image/png": "[encoded data removed]",
      "text/plain": [
       "<Figure size 432x288 with 1 Axes>"
      ]
     },
     "metadata": {
      "needs_background": "light"
     },
     "output_type": "display_data"
    }
   ],
   "source": [
    "import matplotlib.pyplot as plt\n",
    "\n",
    "# Plotting the histogram\n",
    "plt.hist(df['P/A'], edgecolor='black')\n",
    "\n",
    "# Adding labels and titles to the plot\n",
    "plt.xlabel(\"Value\")\n",
    "plt.ylabel(\"Frequency\")\n",
    "plt.title(\"Frequency Distribution of Column 'col'\")\n",
    "\n",
    "# Display the plot\n",
    "plt.show()"
   ]
  },
  {
   "cell_type": "code",
   "execution_count": null,
   "metadata": {},
   "outputs": [],
   "source": []
  }
 ],
 "metadata": {
  "kernelspec": {
   "display_name": "Python 3",
   "language": "python",
   "name": "python3"
  },
  "language_info": {
   "codemirror_mode": {
    "name": "ipython",
    "version": 3
   },
   "file_extension": ".py",
   "mimetype": "text/x-python",
   "name": "python",
   "nbconvert_exporter": "python",
   "pygments_lexer": "ipython3",
   "version": "3.10.4"
  },
  "orig_nbformat": 4,
  "vscode": {
   "interpreter": {
    "hash": "a42ccb73e7d9bfdf27e036f1d2b8b681e55fc0743cc5586bc2474d4a60f4b886"
   }
  }
 },
 "nbformat": 4,
 "nbformat_minor": 2
}
